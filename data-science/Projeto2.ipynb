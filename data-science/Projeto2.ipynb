{
  "nbformat": 4,
  "nbformat_minor": 0,
  "metadata": {
    "colab": {
      "provenance": [],
      "gpuType": "T4"
    },
    "kernelspec": {
      "name": "python3",
      "display_name": "Python 3"
    },
    "language_info": {
      "name": "python"
    },
    "accelerator": "GPU"
  },
  "cells": [
    {
      "cell_type": "markdown",
      "source": [
        "## 1 - Dataset"
      ],
      "metadata": {
        "id": "Vt7K2tWFtB2O"
      }
    },
    {
      "cell_type": "code",
      "source": [
        "import pandas as pd\n",
        "import kagglehub\n",
        "\n",
        "path = kagglehub.dataset_download(\"ehsanesmaeili/red-and-white-wine-quality-merged\")\n",
        "dados = pd.read_csv(path + '/wine_quality_merged.csv', decimal=\",\")"
      ],
      "metadata": {
        "id": "rIPJ5_Z-LLJY",
        "colab": {
          "base_uri": "https://localhost:8080/"
        },
        "outputId": "face1dbc-1557-417d-bd01-1fd26c7a17dd"
      },
      "execution_count": 19,
      "outputs": [
        {
          "output_type": "stream",
          "name": "stdout",
          "text": [
            "Using Colab cache for faster access to the 'red-and-white-wine-quality-merged' dataset.\n"
          ]
        }
      ]
    },
    {
      "cell_type": "code",
      "source": [
        "!pip install mlflow\n",
        "!pip install shap\n",
        "!pip install optuna"
      ],
      "metadata": {
        "colab": {
          "base_uri": "https://localhost:8080/"
        },
        "id": "n6m7QMUTI3Wb",
        "outputId": "21825daa-b5a0-4c2d-989e-62d73a520e93",
        "collapsed": true
      },
      "execution_count": null,
      "outputs": [
        {
          "output_type": "stream",
          "name": "stdout",
          "text": [
            "Requirement already satisfied: mlflow in /usr/local/lib/python3.12/dist-packages (3.4.0)\n",
            "Requirement already satisfied: mlflow-skinny==3.4.0 in /usr/local/lib/python3.12/dist-packages (from mlflow) (3.4.0)\n",
            "Requirement already satisfied: mlflow-tracing==3.4.0 in /usr/local/lib/python3.12/dist-packages (from mlflow) (3.4.0)\n",
            "Requirement already satisfied: Flask<4 in /usr/local/lib/python3.12/dist-packages (from mlflow) (3.1.2)\n",
            "Requirement already satisfied: alembic!=1.10.0,<2 in /usr/local/lib/python3.12/dist-packages (from mlflow) (1.16.5)\n",
            "Requirement already satisfied: cryptography<46,>=43.0.0 in /usr/local/lib/python3.12/dist-packages (from mlflow) (43.0.3)\n",
            "Requirement already satisfied: docker<8,>=4.0.0 in /usr/local/lib/python3.12/dist-packages (from mlflow) (7.1.0)\n",
            "Requirement already satisfied: fastmcp<3,>=2.0.0 in /usr/local/lib/python3.12/dist-packages (from mlflow) (2.12.3)\n",
            "Requirement already satisfied: graphene<4 in /usr/local/lib/python3.12/dist-packages (from mlflow) (3.4.3)\n",
            "Requirement already satisfied: gunicorn<24 in /usr/local/lib/python3.12/dist-packages (from mlflow) (23.0.0)\n",
            "Requirement already satisfied: matplotlib<4 in /usr/local/lib/python3.12/dist-packages (from mlflow) (3.10.0)\n",
            "Requirement already satisfied: numpy<3 in /usr/local/lib/python3.12/dist-packages (from mlflow) (2.0.2)\n",
            "Requirement already satisfied: pandas<3 in /usr/local/lib/python3.12/dist-packages (from mlflow) (2.2.2)\n",
            "Requirement already satisfied: pyarrow<22,>=4.0.0 in /usr/local/lib/python3.12/dist-packages (from mlflow) (18.1.0)\n",
            "Requirement already satisfied: scikit-learn<2 in /usr/local/lib/python3.12/dist-packages (from mlflow) (1.6.1)\n",
            "Requirement already satisfied: scipy<2 in /usr/local/lib/python3.12/dist-packages (from mlflow) (1.16.1)\n",
            "Requirement already satisfied: sqlalchemy<3,>=1.4.0 in /usr/local/lib/python3.12/dist-packages (from mlflow) (2.0.43)\n",
            "Requirement already satisfied: cachetools<7,>=5.0.0 in /usr/local/lib/python3.12/dist-packages (from mlflow-skinny==3.4.0->mlflow) (5.5.2)\n",
            "Requirement already satisfied: click<9,>=7.0 in /usr/local/lib/python3.12/dist-packages (from mlflow-skinny==3.4.0->mlflow) (8.2.1)\n",
            "Requirement already satisfied: cloudpickle<4 in /usr/local/lib/python3.12/dist-packages (from mlflow-skinny==3.4.0->mlflow) (3.1.1)\n",
            "Requirement already satisfied: databricks-sdk<1,>=0.20.0 in /usr/local/lib/python3.12/dist-packages (from mlflow-skinny==3.4.0->mlflow) (0.65.0)\n",
            "Requirement already satisfied: fastapi<1 in /usr/local/lib/python3.12/dist-packages (from mlflow-skinny==3.4.0->mlflow) (0.116.1)\n",
            "Requirement already satisfied: gitpython<4,>=3.1.9 in /usr/local/lib/python3.12/dist-packages (from mlflow-skinny==3.4.0->mlflow) (3.1.45)\n",
            "Requirement already satisfied: importlib_metadata!=4.7.0,<9,>=3.7.0 in /usr/local/lib/python3.12/dist-packages (from mlflow-skinny==3.4.0->mlflow) (8.7.0)\n",
            "Requirement already satisfied: opentelemetry-api<3,>=1.9.0 in /usr/local/lib/python3.12/dist-packages (from mlflow-skinny==3.4.0->mlflow) (1.36.0)\n",
            "Requirement already satisfied: opentelemetry-proto<3,>=1.9.0 in /usr/local/lib/python3.12/dist-packages (from mlflow-skinny==3.4.0->mlflow) (1.37.0)\n",
            "Requirement already satisfied: opentelemetry-sdk<3,>=1.9.0 in /usr/local/lib/python3.12/dist-packages (from mlflow-skinny==3.4.0->mlflow) (1.36.0)\n",
            "Requirement already satisfied: packaging<26 in /usr/local/lib/python3.12/dist-packages (from mlflow-skinny==3.4.0->mlflow) (25.0)\n",
            "Requirement already satisfied: protobuf<7,>=3.12.0 in /usr/local/lib/python3.12/dist-packages (from mlflow-skinny==3.4.0->mlflow) (5.29.5)\n",
            "Requirement already satisfied: pydantic<3,>=1.10.8 in /usr/local/lib/python3.12/dist-packages (from mlflow-skinny==3.4.0->mlflow) (2.11.7)\n",
            "Requirement already satisfied: python-dotenv<2,>=0.19.0 in /usr/local/lib/python3.12/dist-packages (from mlflow-skinny==3.4.0->mlflow) (1.1.1)\n",
            "Requirement already satisfied: pyyaml<7,>=5.1 in /usr/local/lib/python3.12/dist-packages (from mlflow-skinny==3.4.0->mlflow) (6.0.2)\n",
            "Requirement already satisfied: requests<3,>=2.17.3 in /usr/local/lib/python3.12/dist-packages (from mlflow-skinny==3.4.0->mlflow) (2.32.4)\n",
            "Requirement already satisfied: sqlparse<1,>=0.4.0 in /usr/local/lib/python3.12/dist-packages (from mlflow-skinny==3.4.0->mlflow) (0.5.3)\n",
            "Requirement already satisfied: typing-extensions<5,>=4.0.0 in /usr/local/lib/python3.12/dist-packages (from mlflow-skinny==3.4.0->mlflow) (4.15.0)\n",
            "Requirement already satisfied: uvicorn<1 in /usr/local/lib/python3.12/dist-packages (from mlflow-skinny==3.4.0->mlflow) (0.35.0)\n",
            "Requirement already satisfied: Mako in /usr/local/lib/python3.12/dist-packages (from alembic!=1.10.0,<2->mlflow) (1.3.10)\n",
            "Requirement already satisfied: cffi>=1.12 in /usr/local/lib/python3.12/dist-packages (from cryptography<46,>=43.0.0->mlflow) (2.0.0)\n",
            "Requirement already satisfied: urllib3>=1.26.0 in /usr/local/lib/python3.12/dist-packages (from docker<8,>=4.0.0->mlflow) (2.5.0)\n",
            "Requirement already satisfied: authlib>=1.5.2 in /usr/local/lib/python3.12/dist-packages (from fastmcp<3,>=2.0.0->mlflow) (1.6.3)\n",
            "Requirement already satisfied: cyclopts>=3.0.0 in /usr/local/lib/python3.12/dist-packages (from fastmcp<3,>=2.0.0->mlflow) (3.24.0)\n",
            "Requirement already satisfied: exceptiongroup>=1.2.2 in /usr/local/lib/python3.12/dist-packages (from fastmcp<3,>=2.0.0->mlflow) (1.3.0)\n",
            "Requirement already satisfied: httpx>=0.28.1 in /usr/local/lib/python3.12/dist-packages (from fastmcp<3,>=2.0.0->mlflow) (0.28.1)\n",
            "Requirement already satisfied: mcp<2.0.0,>=1.12.4 in /usr/local/lib/python3.12/dist-packages (from fastmcp<3,>=2.0.0->mlflow) (1.13.1)\n",
            "Requirement already satisfied: openapi-core>=0.19.5 in /usr/local/lib/python3.12/dist-packages (from fastmcp<3,>=2.0.0->mlflow) (0.19.5)\n",
            "Requirement already satisfied: openapi-pydantic>=0.5.1 in /usr/local/lib/python3.12/dist-packages (from fastmcp<3,>=2.0.0->mlflow) (0.5.1)\n",
            "Requirement already satisfied: pyperclip>=1.9.0 in /usr/local/lib/python3.12/dist-packages (from fastmcp<3,>=2.0.0->mlflow) (1.9.0)\n",
            "Requirement already satisfied: rich>=13.9.4 in /usr/local/lib/python3.12/dist-packages (from fastmcp<3,>=2.0.0->mlflow) (13.9.4)\n",
            "Requirement already satisfied: blinker>=1.9.0 in /usr/local/lib/python3.12/dist-packages (from Flask<4->mlflow) (1.9.0)\n",
            "Requirement already satisfied: itsdangerous>=2.2.0 in /usr/local/lib/python3.12/dist-packages (from Flask<4->mlflow) (2.2.0)\n",
            "Requirement already satisfied: jinja2>=3.1.2 in /usr/local/lib/python3.12/dist-packages (from Flask<4->mlflow) (3.1.6)\n",
            "Requirement already satisfied: markupsafe>=2.1.1 in /usr/local/lib/python3.12/dist-packages (from Flask<4->mlflow) (3.0.2)\n",
            "Requirement already satisfied: werkzeug>=3.1.0 in /usr/local/lib/python3.12/dist-packages (from Flask<4->mlflow) (3.1.1)\n",
            "Requirement already satisfied: graphql-core<3.3,>=3.1 in /usr/local/lib/python3.12/dist-packages (from graphene<4->mlflow) (3.2.6)\n",
            "Requirement already satisfied: graphql-relay<3.3,>=3.1 in /usr/local/lib/python3.12/dist-packages (from graphene<4->mlflow) (3.2.0)\n",
            "Requirement already satisfied: python-dateutil<3,>=2.7.0 in /usr/local/lib/python3.12/dist-packages (from graphene<4->mlflow) (2.9.0.post0)\n",
            "Requirement already satisfied: contourpy>=1.0.1 in /usr/local/lib/python3.12/dist-packages (from matplotlib<4->mlflow) (1.3.3)\n",
            "Requirement already satisfied: cycler>=0.10 in /usr/local/lib/python3.12/dist-packages (from matplotlib<4->mlflow) (0.12.1)\n",
            "Requirement already satisfied: fonttools>=4.22.0 in /usr/local/lib/python3.12/dist-packages (from matplotlib<4->mlflow) (4.59.2)\n",
            "Requirement already satisfied: kiwisolver>=1.3.1 in /usr/local/lib/python3.12/dist-packages (from matplotlib<4->mlflow) (1.4.9)\n",
            "Requirement already satisfied: pillow>=8 in /usr/local/lib/python3.12/dist-packages (from matplotlib<4->mlflow) (11.3.0)\n",
            "Requirement already satisfied: pyparsing>=2.3.1 in /usr/local/lib/python3.12/dist-packages (from matplotlib<4->mlflow) (3.2.3)\n",
            "Requirement already satisfied: pytz>=2020.1 in /usr/local/lib/python3.12/dist-packages (from pandas<3->mlflow) (2025.2)\n",
            "Requirement already satisfied: tzdata>=2022.7 in /usr/local/lib/python3.12/dist-packages (from pandas<3->mlflow) (2025.2)\n",
            "Requirement already satisfied: joblib>=1.2.0 in /usr/local/lib/python3.12/dist-packages (from scikit-learn<2->mlflow) (1.5.2)\n",
            "Requirement already satisfied: threadpoolctl>=3.1.0 in /usr/local/lib/python3.12/dist-packages (from scikit-learn<2->mlflow) (3.6.0)\n",
            "Requirement already satisfied: greenlet>=1 in /usr/local/lib/python3.12/dist-packages (from sqlalchemy<3,>=1.4.0->mlflow) (3.2.4)\n",
            "Requirement already satisfied: pycparser in /usr/local/lib/python3.12/dist-packages (from cffi>=1.12->cryptography<46,>=43.0.0->mlflow) (2.23)\n",
            "Requirement already satisfied: attrs>=23.1.0 in /usr/local/lib/python3.12/dist-packages (from cyclopts>=3.0.0->fastmcp<3,>=2.0.0->mlflow) (25.3.0)\n",
            "Requirement already satisfied: docstring-parser>=0.15 in /usr/local/lib/python3.12/dist-packages (from cyclopts>=3.0.0->fastmcp<3,>=2.0.0->mlflow) (0.17.0)\n",
            "Requirement already satisfied: rich-rst<2.0.0,>=1.3.1 in /usr/local/lib/python3.12/dist-packages (from cyclopts>=3.0.0->fastmcp<3,>=2.0.0->mlflow) (1.3.1)\n",
            "Requirement already satisfied: google-auth~=2.0 in /usr/local/lib/python3.12/dist-packages (from databricks-sdk<1,>=0.20.0->mlflow-skinny==3.4.0->mlflow) (2.38.0)\n",
            "Requirement already satisfied: starlette<0.48.0,>=0.40.0 in /usr/local/lib/python3.12/dist-packages (from fastapi<1->mlflow-skinny==3.4.0->mlflow) (0.47.3)\n",
            "Requirement already satisfied: gitdb<5,>=4.0.1 in /usr/local/lib/python3.12/dist-packages (from gitpython<4,>=3.1.9->mlflow-skinny==3.4.0->mlflow) (4.0.12)\n",
            "Requirement already satisfied: anyio in /usr/local/lib/python3.12/dist-packages (from httpx>=0.28.1->fastmcp<3,>=2.0.0->mlflow) (4.10.0)\n",
            "Requirement already satisfied: certifi in /usr/local/lib/python3.12/dist-packages (from httpx>=0.28.1->fastmcp<3,>=2.0.0->mlflow) (2025.8.3)\n",
            "Requirement already satisfied: httpcore==1.* in /usr/local/lib/python3.12/dist-packages (from httpx>=0.28.1->fastmcp<3,>=2.0.0->mlflow) (1.0.9)\n",
            "Requirement already satisfied: idna in /usr/local/lib/python3.12/dist-packages (from httpx>=0.28.1->fastmcp<3,>=2.0.0->mlflow) (3.10)\n",
            "Requirement already satisfied: h11>=0.16 in /usr/local/lib/python3.12/dist-packages (from httpcore==1.*->httpx>=0.28.1->fastmcp<3,>=2.0.0->mlflow) (0.16.0)\n",
            "Requirement already satisfied: zipp>=3.20 in /usr/local/lib/python3.12/dist-packages (from importlib_metadata!=4.7.0,<9,>=3.7.0->mlflow-skinny==3.4.0->mlflow) (3.23.0)\n",
            "Requirement already satisfied: httpx-sse>=0.4 in /usr/local/lib/python3.12/dist-packages (from mcp<2.0.0,>=1.12.4->fastmcp<3,>=2.0.0->mlflow) (0.4.1)\n",
            "Requirement already satisfied: jsonschema>=4.20.0 in /usr/local/lib/python3.12/dist-packages (from mcp<2.0.0,>=1.12.4->fastmcp<3,>=2.0.0->mlflow) (4.25.1)\n",
            "Requirement already satisfied: pydantic-settings>=2.5.2 in /usr/local/lib/python3.12/dist-packages (from mcp<2.0.0,>=1.12.4->fastmcp<3,>=2.0.0->mlflow) (2.10.1)\n",
            "Requirement already satisfied: python-multipart>=0.0.9 in /usr/local/lib/python3.12/dist-packages (from mcp<2.0.0,>=1.12.4->fastmcp<3,>=2.0.0->mlflow) (0.0.20)\n",
            "Requirement already satisfied: sse-starlette>=1.6.1 in /usr/local/lib/python3.12/dist-packages (from mcp<2.0.0,>=1.12.4->fastmcp<3,>=2.0.0->mlflow) (3.0.2)\n",
            "Requirement already satisfied: isodate in /usr/local/lib/python3.12/dist-packages (from openapi-core>=0.19.5->fastmcp<3,>=2.0.0->mlflow) (0.7.2)\n",
            "Requirement already satisfied: jsonschema-path<0.4.0,>=0.3.1 in /usr/local/lib/python3.12/dist-packages (from openapi-core>=0.19.5->fastmcp<3,>=2.0.0->mlflow) (0.3.4)\n",
            "Requirement already satisfied: more-itertools in /usr/local/lib/python3.12/dist-packages (from openapi-core>=0.19.5->fastmcp<3,>=2.0.0->mlflow) (10.8.0)\n",
            "Requirement already satisfied: openapi-schema-validator<0.7.0,>=0.6.0 in /usr/local/lib/python3.12/dist-packages (from openapi-core>=0.19.5->fastmcp<3,>=2.0.0->mlflow) (0.6.3)\n",
            "Requirement already satisfied: openapi-spec-validator<0.8.0,>=0.7.1 in /usr/local/lib/python3.12/dist-packages (from openapi-core>=0.19.5->fastmcp<3,>=2.0.0->mlflow) (0.7.2)\n",
            "Requirement already satisfied: parse in /usr/local/lib/python3.12/dist-packages (from openapi-core>=0.19.5->fastmcp<3,>=2.0.0->mlflow) (1.20.2)\n",
            "Requirement already satisfied: opentelemetry-semantic-conventions==0.57b0 in /usr/local/lib/python3.12/dist-packages (from opentelemetry-sdk<3,>=1.9.0->mlflow-skinny==3.4.0->mlflow) (0.57b0)\n",
            "Requirement already satisfied: annotated-types>=0.6.0 in /usr/local/lib/python3.12/dist-packages (from pydantic<3,>=1.10.8->mlflow-skinny==3.4.0->mlflow) (0.7.0)\n",
            "Requirement already satisfied: pydantic-core==2.33.2 in /usr/local/lib/python3.12/dist-packages (from pydantic<3,>=1.10.8->mlflow-skinny==3.4.0->mlflow) (2.33.2)\n",
            "Requirement already satisfied: typing-inspection>=0.4.0 in /usr/local/lib/python3.12/dist-packages (from pydantic<3,>=1.10.8->mlflow-skinny==3.4.0->mlflow) (0.4.1)\n",
            "Requirement already satisfied: email-validator>=2.0.0 in /usr/local/lib/python3.12/dist-packages (from pydantic[email]>=2.11.7->fastmcp<3,>=2.0.0->mlflow) (2.3.0)\n",
            "Requirement already satisfied: six>=1.5 in /usr/local/lib/python3.12/dist-packages (from python-dateutil<3,>=2.7.0->graphene<4->mlflow) (1.17.0)\n",
            "Requirement already satisfied: charset_normalizer<4,>=2 in /usr/local/lib/python3.12/dist-packages (from requests<3,>=2.17.3->mlflow-skinny==3.4.0->mlflow) (3.4.3)\n",
            "Requirement already satisfied: markdown-it-py>=2.2.0 in /usr/local/lib/python3.12/dist-packages (from rich>=13.9.4->fastmcp<3,>=2.0.0->mlflow) (4.0.0)\n",
            "Requirement already satisfied: pygments<3.0.0,>=2.13.0 in /usr/local/lib/python3.12/dist-packages (from rich>=13.9.4->fastmcp<3,>=2.0.0->mlflow) (2.19.2)\n",
            "Requirement already satisfied: sniffio>=1.1 in /usr/local/lib/python3.12/dist-packages (from anyio->httpx>=0.28.1->fastmcp<3,>=2.0.0->mlflow) (1.3.1)\n",
            "Requirement already satisfied: dnspython>=2.0.0 in /usr/local/lib/python3.12/dist-packages (from email-validator>=2.0.0->pydantic[email]>=2.11.7->fastmcp<3,>=2.0.0->mlflow) (2.8.0)\n",
            "Requirement already satisfied: smmap<6,>=3.0.1 in /usr/local/lib/python3.12/dist-packages (from gitdb<5,>=4.0.1->gitpython<4,>=3.1.9->mlflow-skinny==3.4.0->mlflow) (5.0.2)\n",
            "Requirement already satisfied: pyasn1-modules>=0.2.1 in /usr/local/lib/python3.12/dist-packages (from google-auth~=2.0->databricks-sdk<1,>=0.20.0->mlflow-skinny==3.4.0->mlflow) (0.4.2)\n",
            "Requirement already satisfied: rsa<5,>=3.1.4 in /usr/local/lib/python3.12/dist-packages (from google-auth~=2.0->databricks-sdk<1,>=0.20.0->mlflow-skinny==3.4.0->mlflow) (4.9.1)\n",
            "Requirement already satisfied: jsonschema-specifications>=2023.03.6 in /usr/local/lib/python3.12/dist-packages (from jsonschema>=4.20.0->mcp<2.0.0,>=1.12.4->fastmcp<3,>=2.0.0->mlflow) (2025.9.1)\n",
            "Requirement already satisfied: referencing>=0.28.4 in /usr/local/lib/python3.12/dist-packages (from jsonschema>=4.20.0->mcp<2.0.0,>=1.12.4->fastmcp<3,>=2.0.0->mlflow) (0.36.2)\n",
            "Requirement already satisfied: rpds-py>=0.7.1 in /usr/local/lib/python3.12/dist-packages (from jsonschema>=4.20.0->mcp<2.0.0,>=1.12.4->fastmcp<3,>=2.0.0->mlflow) (0.27.1)\n",
            "Requirement already satisfied: pathable<0.5.0,>=0.4.1 in /usr/local/lib/python3.12/dist-packages (from jsonschema-path<0.4.0,>=0.3.1->openapi-core>=0.19.5->fastmcp<3,>=2.0.0->mlflow) (0.4.4)\n",
            "Requirement already satisfied: mdurl~=0.1 in /usr/local/lib/python3.12/dist-packages (from markdown-it-py>=2.2.0->rich>=13.9.4->fastmcp<3,>=2.0.0->mlflow) (0.1.2)\n",
            "Requirement already satisfied: rfc3339-validator in /usr/local/lib/python3.12/dist-packages (from openapi-schema-validator<0.7.0,>=0.6.0->openapi-core>=0.19.5->fastmcp<3,>=2.0.0->mlflow) (0.1.4)\n",
            "Requirement already satisfied: lazy-object-proxy<2.0.0,>=1.7.1 in /usr/local/lib/python3.12/dist-packages (from openapi-spec-validator<0.8.0,>=0.7.1->openapi-core>=0.19.5->fastmcp<3,>=2.0.0->mlflow) (1.12.0)\n",
            "Requirement already satisfied: docutils in /usr/local/lib/python3.12/dist-packages (from rich-rst<2.0.0,>=1.3.1->cyclopts>=3.0.0->fastmcp<3,>=2.0.0->mlflow) (0.21.2)\n",
            "Requirement already satisfied: pyasn1<0.7.0,>=0.6.1 in /usr/local/lib/python3.12/dist-packages (from pyasn1-modules>=0.2.1->google-auth~=2.0->databricks-sdk<1,>=0.20.0->mlflow-skinny==3.4.0->mlflow) (0.6.1)\n",
            "Requirement already satisfied: shap in /usr/local/lib/python3.12/dist-packages (0.48.0)\n",
            "Requirement already satisfied: numpy in /usr/local/lib/python3.12/dist-packages (from shap) (2.0.2)\n",
            "Requirement already satisfied: scipy in /usr/local/lib/python3.12/dist-packages (from shap) (1.16.1)\n",
            "Requirement already satisfied: scikit-learn in /usr/local/lib/python3.12/dist-packages (from shap) (1.6.1)\n",
            "Requirement already satisfied: pandas in /usr/local/lib/python3.12/dist-packages (from shap) (2.2.2)\n",
            "Requirement already satisfied: tqdm>=4.27.0 in /usr/local/lib/python3.12/dist-packages (from shap) (4.67.1)\n",
            "Requirement already satisfied: packaging>20.9 in /usr/local/lib/python3.12/dist-packages (from shap) (25.0)\n",
            "Requirement already satisfied: slicer==0.0.8 in /usr/local/lib/python3.12/dist-packages (from shap) (0.0.8)\n",
            "Requirement already satisfied: numba>=0.54 in /usr/local/lib/python3.12/dist-packages (from shap) (0.60.0)\n",
            "Requirement already satisfied: cloudpickle in /usr/local/lib/python3.12/dist-packages (from shap) (3.1.1)\n",
            "Requirement already satisfied: typing-extensions in /usr/local/lib/python3.12/dist-packages (from shap) (4.15.0)\n",
            "Requirement already satisfied: llvmlite<0.44,>=0.43.0dev0 in /usr/local/lib/python3.12/dist-packages (from numba>=0.54->shap) (0.43.0)\n",
            "Requirement already satisfied: python-dateutil>=2.8.2 in /usr/local/lib/python3.12/dist-packages (from pandas->shap) (2.9.0.post0)\n",
            "Requirement already satisfied: pytz>=2020.1 in /usr/local/lib/python3.12/dist-packages (from pandas->shap) (2025.2)\n",
            "Requirement already satisfied: tzdata>=2022.7 in /usr/local/lib/python3.12/dist-packages (from pandas->shap) (2025.2)\n",
            "Requirement already satisfied: joblib>=1.2.0 in /usr/local/lib/python3.12/dist-packages (from scikit-learn->shap) (1.5.2)\n",
            "Requirement already satisfied: threadpoolctl>=3.1.0 in /usr/local/lib/python3.12/dist-packages (from scikit-learn->shap) (3.6.0)\n",
            "Requirement already satisfied: six>=1.5 in /usr/local/lib/python3.12/dist-packages (from python-dateutil>=2.8.2->pandas->shap) (1.17.0)\n"
          ]
        }
      ]
    },
    {
      "cell_type": "code",
      "source": [
        "dados.head()"
      ],
      "metadata": {
        "id": "LC6ayP0gvWPc"
      },
      "execution_count": null,
      "outputs": []
    },
    {
      "cell_type": "markdown",
      "source": [
        "## 2 - Preparação e Normalização"
      ],
      "metadata": {
        "id": "yA1E6ARjKk1B"
      }
    },
    {
      "cell_type": "markdown",
      "source": [
        "Normalização"
      ],
      "metadata": {
        "id": "CrAfTr1c9sgx"
      }
    },
    {
      "cell_type": "code",
      "source": [
        "from sklearn.preprocessing import MinMaxScaler\n",
        "from sklearn.preprocessing import LabelEncoder\n",
        "\n",
        "encoder = LabelEncoder()\n",
        "scaler = MinMaxScaler()"
      ],
      "metadata": {
        "id": "5w7sCRPMxAJC"
      },
      "execution_count": null,
      "outputs": []
    },
    {
      "cell_type": "code",
      "source": [
        "x_dados = dados.loc[:, ['fixed acidity', 'volatile acidity', 'citric acid', 'residual sugar', 'chlorides', 'free sulfur dioxide', 'total sulfur dioxide', 'density', 'pH', 'sulphates', 'alcohol', 'quality']]\n",
        "y_dados = dados['type'].values\n",
        "\n",
        "x_dados_norm = scaler.fit_transform(x_dados)\n",
        "y_dados_norm = encoder.fit_transform(y_dados)"
      ],
      "metadata": {
        "id": "9INXYi0Pzv_9"
      },
      "execution_count": null,
      "outputs": []
    },
    {
      "cell_type": "code",
      "source": [
        "df = pd.DataFrame(x_dados_norm, columns=x_dados.columns)\n",
        "df['target'] = y_dados_norm\n",
        "display(df.head())"
      ],
      "metadata": {
        "id": "_NsKM3DGzzbE"
      },
      "execution_count": null,
      "outputs": []
    },
    {
      "cell_type": "markdown",
      "source": [
        "## 5 - Learning"
      ],
      "metadata": {
        "id": "wNu8nw7bK6l-"
      }
    },
    {
      "cell_type": "code",
      "source": [
        "from sklearn.svm import SVC\n",
        "from sklearn.ensemble import RandomForestClassifier\n",
        "\n",
        "from sklearn.model_selection import train_test_split"
      ],
      "metadata": {
        "id": "p-xvjGv63X2N"
      },
      "execution_count": null,
      "outputs": []
    },
    {
      "cell_type": "code",
      "source": [
        "dados_treino, dados_teste, rotulos_treino, rotulos_teste = train_test_split(x_dados_norm, y_dados_norm, test_size=0.2, stratify=y_dados_norm)"
      ],
      "metadata": {
        "id": "QRexMP-w3kj1"
      },
      "execution_count": null,
      "outputs": []
    },
    {
      "cell_type": "code",
      "source": [
        "clf_svm = SVC(C=1.0, kernel='rbf', gamma='scale')\n",
        "clf_rf = RandomForestClassifier(n_estimators=100, max_depth=10, random_state=42)"
      ],
      "metadata": {
        "id": "WzWtmAhN3cNC"
      },
      "execution_count": null,
      "outputs": []
    },
    {
      "cell_type": "code",
      "source": [
        "clf_svm = clf_svm.fit(dados_treino, rotulos_treino)\n",
        "clf_rf = clf_rf.fit(dados_treino, rotulos_treino)"
      ],
      "metadata": {
        "id": "z6ho2uqp4MxE"
      },
      "execution_count": null,
      "outputs": []
    },
    {
      "cell_type": "markdown",
      "source": [
        "# MLFlow"
      ],
      "metadata": {
        "id": "9Bh4TsKvZG1T"
      }
    },
    {
      "cell_type": "code",
      "source": [
        "import os\n",
        "import warnings\n",
        "import sys\n",
        "\n",
        "import pandas as pd\n",
        "import numpy as np\n",
        "from sklearn.metrics import mean_squared_error, mean_absolute_error, r2_score\n",
        "from sklearn.model_selection import train_test_split\n",
        "from sklearn.linear_model import ElasticNet\n",
        "from urllib.parse import urlparse\n",
        "import mlflow\n",
        "import mlflow.sklearn"
      ],
      "metadata": {
        "id": "ZqoGvVshZiOZ"
      },
      "execution_count": null,
      "outputs": []
    },
    {
      "cell_type": "code",
      "source": [
        "# Ignore warnings\n",
        "warnings.filterwarnings(\"ignore\", message=\"`artifact_path` is deprecated.*\")\n",
        "warnings.filterwarnings(\"ignore\", message=\"Model logged without a signature and input example.*\")\n",
        "\n",
        "# Generate Seed\n",
        "np.random.seed(40)\n",
        "\n",
        "# Define the evaluation metrics function\n",
        "from sklearn.metrics import f1_score, accuracy_score, precision_score\n",
        "\n",
        "def eval_metrics(actual, pred):\n",
        "    f1 = f1_score(actual, pred)\n",
        "    accuracy = accuracy_score(actual, pred)\n",
        "    precision = precision_score(actual, pred)\n",
        "    return f1, accuracy, precision\n",
        "\n",
        "# Initialize dictionary to store metrics\n",
        "metrics_data = {\n",
        "    'Model': [],\n",
        "    'F1 Score': [],\n",
        "    'Accuracy': [],\n",
        "    'Precision': []\n",
        "}\n",
        "\n",
        "# Log the SVM model\n",
        "with mlflow.start_run(run_name=\"SVM Model\"):\n",
        "    predicted_rotulos = clf_svm.predict(dados_teste)\n",
        "    (f1, accuracy, precision) = eval_metrics(rotulos_teste, predicted_rotulos)\n",
        "    model_score = clf_svm.score(dados_teste, rotulos_teste)\n",
        "\n",
        "    print(\"SVM model:\")\n",
        "    print(\"  F1 Score: %s\" % f1)\n",
        "    print(\"  Accuracy: %s\" % accuracy)\n",
        "    print(\"  Precision: %s\" % precision)\n",
        "    print(\"  Model Score: %s\" % model_score)\n",
        "\n",
        "    mlflow.log_metric(\"f1_score\", f1)\n",
        "    mlflow.log_metric(\"accuracy\", accuracy)\n",
        "    mlflow.log_metric(\"precision\", precision)\n",
        "    mlflow.log_metric(\"model_score\", model_score)\n",
        "\n",
        "    mlflow.sklearn.log_model(clf_svm, \"svm_model\")\n",
        "\n",
        "    # Store metrics in the dictionary\n",
        "    metrics_data['Model'].append('SVM')\n",
        "    metrics_data['F1 Score'].append(f1)\n",
        "    metrics_data['Accuracy'].append(accuracy)\n",
        "    metrics_data['Precision'].append(precision)\n",
        "\n",
        "\n",
        "# Log the RandomForest model\n",
        "with mlflow.start_run(run_name=\"RandomForest Model\"):\n",
        "    predicted_rotulos = clf_rf.predict(dados_teste)\n",
        "    (f1, accuracy, precision) = eval_metrics(rotulos_teste, predicted_rotulos)\n",
        "    model_score = clf_rf.score(dados_teste, rotulos_teste)\n",
        "\n",
        "\n",
        "    print(\"RandomForest model:\")\n",
        "    print(\"  F1 Score: %s\" % f1)\n",
        "    print(\"  Accuracy: %s\" % accuracy)\n",
        "    print(\"  Precision: %s\" % precision)\n",
        "    print(\"  Model Score: %s\" % model_score)\n",
        "\n",
        "\n",
        "    mlflow.log_metric(\"f1_score\", f1)\n",
        "    mlflow.log_metric(\"accuracy\", accuracy)\n",
        "    mlflow.log_metric(\"precision\", precision)\n",
        "    mlflow.log_metric(\"model_score\", model_score)\n",
        "\n",
        "    mlflow.sklearn.log_model(clf_rf, \"random_forest_model\")\n",
        "\n",
        "    # Store metrics in the dictionary\n",
        "    metrics_data['Model'].append('RandomForest')\n",
        "    metrics_data['F1 Score'].append(f1)\n",
        "    metrics_data['Accuracy'].append(accuracy)\n",
        "    metrics_data['Precision'].append(precision)\n",
        "\n",
        "# Print the dictionary with the collected metrics\n",
        "print(\"\\nCollected Metrics:\")\n",
        "print(metrics_data)"
      ],
      "metadata": {
        "id": "KOjOQoWPa6en"
      },
      "execution_count": null,
      "outputs": []
    },
    {
      "cell_type": "code",
      "source": [
        "import matplotlib.pyplot as plt\n",
        "import pandas as pd\n",
        "import numpy as np\n",
        "\n",
        "# Use the metrics_data dictionary generated in the previous step\n",
        "# metrics_data is available from the execution of the previous cell\n",
        "\n",
        "# Create a DataFrame from the dictionary\n",
        "df_metrics = pd.DataFrame(metrics_data)\n",
        "\n",
        "# Set 'Model' as the index for easier plotting\n",
        "df_metrics = df_metrics.set_index('Model')\n",
        "\n",
        "# Plotting the metrics in a 2x2 grid of subplots using bar plots with consistent colors for each model\n",
        "fig, axes = plt.subplots(2, 2, figsize=(12, 10))\n",
        "axes = axes.flatten() # Flatten the 2D array of axes for easy iteration\n",
        "\n",
        "metrics_to_plot = ['F1 Score', 'Accuracy', 'Precision']\n",
        "models = df_metrics.index\n",
        "colors = plt.cm.viridis(np.linspace(0, 1, len(models))) # Generate distinct colors\n",
        "\n",
        "bar_width = 0.2\n",
        "\n",
        "for i, metric in enumerate(metrics_to_plot):\n",
        "    x = np.arange(len(models)) # the label locations\n",
        "    for j, model in enumerate(models):\n",
        "        axes[i].bar(x[j], df_metrics.loc[model, metric], bar_width, label=model, color=colors[j])\n",
        "\n",
        "    axes[i].set_title(f'Comparison of Model {metric}')\n",
        "    axes[i].set_xlabel('Model')\n",
        "    axes[i].set_ylabel(metric)\n",
        "    axes[i].set_xticks(x)\n",
        "    axes[i].set_xticklabels(models)\n",
        "    axes[i].tick_params(axis='x', rotation=0)\n",
        "    axes[i].grid(axis='y')\n",
        "    if i == 0: # Add legend to the first plot\n",
        "        axes[i].legend()\n",
        "\n",
        "\n",
        "# Hide the unused subplot\n",
        "axes[len(metrics_to_plot)].axis('off')\n",
        "\n",
        "plt.tight_layout()\n",
        "plt.show()"
      ],
      "metadata": {
        "id": "Iqcy412bdYyT"
      },
      "execution_count": null,
      "outputs": []
    },
    {
      "cell_type": "markdown",
      "source": [
        "# Hiper Parametros"
      ],
      "metadata": {
        "id": "v_uzr0GDiCut"
      }
    },
    {
      "cell_type": "code",
      "source": [
        "import shap"
      ],
      "metadata": {
        "id": "bsA8wJYziNJo"
      },
      "execution_count": null,
      "outputs": []
    },
    {
      "cell_type": "code",
      "source": [
        "# Create a SHAP explainer for the SVM model\n",
        "# Wrap the predict method in a lambda function to make it callable\n",
        "explainer = shap.Explainer(lambda x: clf_svm.predict(x), x_dados_norm)\n",
        "\n",
        "# Calculate SHAP values for the data\n",
        "# Using a subset of the data for faster execution\n",
        "# shap_values = explainer(x_dados_norm[:100]) # Using the first 100 samples as an example subset\n",
        "shap_values = explainer(x_dados_norm[:100]) # Using the first 100 samples as an example subset\n",
        "\n",
        "# Get feature names from the original DataFrame\n",
        "feature_names = x_dados.columns.tolist()\n",
        "\n",
        "# Summarize the effects of all the features\n",
        "shap.summary_plot(shap_values, feature_names=feature_names)"
      ],
      "metadata": {
        "id": "MnrZljwCiU-H"
      },
      "execution_count": null,
      "outputs": []
    },
    {
      "cell_type": "code",
      "metadata": {
        "id": "21b172ee"
      },
      "source": [
        "import optuna\n",
        "from sklearn.model_selection import cross_val_score\n",
        "\n",
        "# Define the objective function for Optuna for SVM\n",
        "def objective_svm(trial):\n",
        "    C = trial.suggest_float('C', 0.1, 100, log=True) # Reduced range\n",
        "    gamma = trial.suggest_float('gamma', 0.001, 10, log=True) # Reduced range\n",
        "    kernel = trial.suggest_categorical('kernel', ['rbf', 'linear'])\n",
        "\n",
        "    clf = SVC(C=C, gamma=gamma, kernel=kernel)\n",
        "    score = cross_val_score(clf, dados_treino, rotulos_treino, n_jobs=-1, cv=3).mean()\n",
        "    return score\n",
        "\n",
        "# Create an Optuna study and optimize for SVM\n",
        "study_svm = optuna.create_study(direction='maximize')\n",
        "study_svm.optimize(objective_svm, n_trials=50) # Reduced number of trials\n",
        "\n",
        "print(\"Best hyperparameters for SVM: \", study_svm.best_params)\n",
        "clf_svm_tuned = SVC(**study_svm.best_params)\n",
        "clf_svm_tuned.fit(dados_treino, rotulos_treino)"
      ],
      "execution_count": null,
      "outputs": []
    },
    {
      "cell_type": "code",
      "metadata": {
        "id": "b8d8aeaa"
      },
      "source": [
        "# Define the objective function for Optuna for RandomForest\n",
        "def objective_rf(trial):\n",
        "    n_estimators = trial.suggest_int('n_estimators', 50, 150) # Reduced range\n",
        "    max_depth = trial.suggest_int('max_depth', 5, 15) # Reduced range\n",
        "    min_samples_split = trial.suggest_float('min_samples_split', 0.05, 0.5) # Reduced range\n",
        "    min_samples_leaf = trial.suggest_float('min_samples_leaf', 0.02, 0.2) # Reduced range\n",
        "    criterion = trial.suggest_categorical('criterion', ['gini', 'entropy'])\n",
        "\n",
        "    clf = RandomForestClassifier(n_estimators=n_estimators, max_depth=max_depth,\n",
        "                                   min_samples_split=min_samples_split,\n",
        "                                   min_samples_leaf=min_samples_leaf,\n",
        "                                   criterion=criterion,\n",
        "                                   random_state=42, n_jobs=-1)\n",
        "    score = cross_val_score(clf, dados_treino, rotulos_treino, n_jobs=-1, cv=3).mean()\n",
        "    return score\n",
        "\n",
        "# Create an Optuna study and optimize for RandomForest\n",
        "study_rf = optuna.create_study(direction='maximize')\n",
        "study_rf.optimize(objective_rf, n_trials=50) # Reduced number of trials\n",
        "\n",
        "print(\"Best hyperparameters for RandomForest: \", study_rf.best_params)\n",
        "clf_rf_tuned = RandomForestClassifier(**study_rf.best_params, random_state=42, n_jobs=-1)\n",
        "clf_rf_tuned.fit(dados_treino, rotulos_treino)"
      ],
      "execution_count": null,
      "outputs": []
    },
    {
      "cell_type": "code",
      "source": [
        "from sklearn.model_selection import cross_val_score\n",
        "\n",
        "# Perform cross-validation on the tuned SVM model\n",
        "svm_cv_scores = cross_val_score(clf_svm_tuned, dados_teste, rotulos_teste, cv=5) # Using 5 folds for cross-validation\n",
        "\n",
        "print(\"Cross-validation scores for tuned SVM model:\", svm_cv_scores)\n",
        "print(\"Mean cross-validation score for tuned SVM model:\", svm_cv_scores.mean())\n",
        "\n",
        "# Perform cross-validation on the tuned RandomForest model\n",
        "rf_cv_scores = cross_val_score(clf_rf_tuned, dados_teste, rotulos_teste, cv=5) # Using 5 folds for cross-validation\n",
        "\n",
        "print(\"\\nCross-validation scores for tuned RandomForest model:\", rf_cv_scores)\n",
        "print(\"Mean cross-validation score for tuned RandomForest model:\", rf_cv_scores.mean())"
      ],
      "metadata": {
        "id": "k_gM1ju_CdgU"
      },
      "execution_count": null,
      "outputs": []
    },
    {
      "cell_type": "code",
      "metadata": {
        "id": "a6169fbe"
      },
      "source": [
        "from sklearn.metrics import f1_score, accuracy_score, precision_score\n",
        "\n",
        "# Evaluate tuned SVM model\n",
        "predicted_rotulos_svm_tuned = clf_svm_tuned.predict(dados_teste)\n",
        "f1_svm_tuned, accuracy_svm_tuned, precision_svm_tuned = eval_metrics(rotulos_teste, predicted_rotulos_svm_tuned)\n",
        "\n",
        "# Evaluate tuned RandomForest model\n",
        "predicted_rotulos_rf_tuned = clf_rf_tuned.predict(dados_teste)\n",
        "f1_rf_tuned, accuracy_rf_tuned, precision_rf_tuned = eval_metrics(rotulos_teste, predicted_rotulos_rf_tuned)\n",
        "\n",
        "# Update the metrics_data dictionary with tuned model metrics\n",
        "metrics_data['Model'].extend(['SVM_tuned', 'RandomForest_tuned'])\n",
        "metrics_data['F1 Score'].extend([f1_svm_tuned, f1_rf_tuned])\n",
        "metrics_data['Accuracy'].extend([accuracy_svm_tuned, accuracy_rf_tuned])\n",
        "metrics_data['Precision'].extend([precision_svm_tuned, precision_rf_tuned])\n",
        "\n",
        "# Create a DataFrame from the updated dictionary\n",
        "df_metrics_comparison = pd.DataFrame(metrics_data)\n",
        "\n",
        "# Set 'Model' as the index for easier plotting\n",
        "df_metrics_comparison = df_metrics_comparison.set_index('Model')\n",
        "\n",
        "display(df_metrics_comparison)"
      ],
      "execution_count": null,
      "outputs": []
    },
    {
      "cell_type": "code",
      "metadata": {
        "id": "c7fcb82e"
      },
      "source": [
        "# Evaluate tuned SVM model on training data\n",
        "predicted_rotulos_svm_tuned_train = clf_svm_tuned.predict(dados_treino)\n",
        "f1_svm_tuned_train, accuracy_svm_tuned_train, precision_svm_tuned_train = eval_metrics(rotulos_treino, predicted_rotulos_svm_tuned_train)\n",
        "\n",
        "# Evaluate tuned RandomForest model on training data\n",
        "predicted_rotulos_rf_tuned_train = clf_rf_tuned.predict(dados_treino)\n",
        "f1_rf_tuned_train, accuracy_rf_tuned_train, precision_rf_tuned_train = eval_metrics(rotulos_treino, predicted_rotulos_rf_tuned_train)\n",
        "\n",
        "# Create a dictionary to hold the comparison metrics\n",
        "comparison_metrics = {\n",
        "    'Model': ['SVM_tuned (Train)', 'SVM_tuned (Test)', 'RandomForest_tuned (Train)', 'RandomForest_tuned (Test)'],\n",
        "    'F1 Score': [f1_svm_tuned_train, f1_svm_tuned, f1_rf_tuned_train, f1_rf_tuned],\n",
        "    'Accuracy': [accuracy_svm_tuned_train, accuracy_svm_tuned, accuracy_rf_tuned_train, accuracy_rf_tuned],\n",
        "    'Precision': [precision_svm_tuned_train, precision_svm_tuned, precision_rf_tuned_train, precision_rf_tuned]\n",
        "}\n",
        "\n",
        "# Create a DataFrame from the dictionary and display it\n",
        "df_comparison = pd.DataFrame(comparison_metrics).set_index('Model')\n",
        "display(df_comparison)"
      ],
      "execution_count": null,
      "outputs": []
    },
    {
      "cell_type": "markdown",
      "source": [
        "# Conclusão\n",
        "\n",
        "Inicialmente, os dados foram baixados, normalizados e, em seguida, divididos em conjuntos de treino e teste para a avaliação dos modelos. Para otimizar o desempenho, foi realizado um ajuste fino de hiperparâmetros utilizando a biblioteca Optuna, que buscou a melhor combinação para cada algoritmo.\n",
        "\n",
        "Ao final, ambos os modelos apresentaram um ótimo resultado com os dados de teste, que não foram vistos durante a fase de treinamento. O modelo vencedor foi o SVM, embora com uma pequena margem de diferença em relação ao Random Forest.\n",
        "\n",
        "Consideramos que o desempenho alcançado é suficiente para o objetivo desta classificação. Desse modo, não serão necessários novos ajustes nos hiperparâmetros ou a exploração de outros modelos"
      ],
      "metadata": {
        "id": "-61Q2VpBYT9Y"
      }
    }
  ]
}
